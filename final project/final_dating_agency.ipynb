{
 "cells": [
  {
   "cell_type": "markdown",
   "metadata": {},
   "source": [
    "# Recommender System For Dating Agency"
   ]
  },
  {
   "cell_type": "markdown",
   "metadata": {},
   "source": [
    "# Introduction"
   ]
  },
  {
   "cell_type": "markdown",
   "metadata": {},
   "source": [
    "Users of online dating sites are facing information overload that requires them to manually construct queries and browse huge amount of matching user profiles. A typical dating site requires users to fill in lengthy questionnaires and matching is based on attributes selected. The search in the database either returns no match in the case when the query is too specific or, for general queries, returns a huge amount of profiles. In the end users end up browsing large amount of irrelevant results. Building a recommender system can help to improve user experience of dating site users and lead to a higher user satisfaction by making the process of finding a relevant candidate quicker and more efficient.\n",
    "\n",
    "The purpose of this project is to develop a recommender system using collaborative filtering algorithms (user- and item-based) walking though the following steps:\n",
    "\n",
    "1. Data Exploration\n",
    "2. User-Based Collaborative Filtering (top N recommendations)\n",
    "3. Item-Based Collaborative Filtering (top N recommendations)\n",
    "4. KNN Recommender Algorithms. Selecting the best system based on the RMSE using cross validation.\n",
    "5. Measuring Coverage and Diversity of the selected KNN-Recommender Algorithm.\n",
    "6. Implementation SVD method and tuning it selecting best parameter using RMSE.\n",
    "\n",
    "Core ML package that will be used throughout the project is Surprise - Python scikit building and analyzing recommender systems library.\n",
    "\n",
    "Data Source: http://www.occamslab.com/petricek/data/\n",
    "\n",
    "This data set contains 168,791 profiles and presented in the following format:\n",
    "\n",
    "UserID is user who provided rating\n",
    "\n",
    "ProfileID is user who has been rated\n",
    "\n",
    "UserIDs range between 1 and 135,359\n",
    "\n",
    "ProfileIDs range between 1 and 220,970 (not every profile has been rated)\n",
    "\n",
    "Ratings are on a 1-10 scale where 10 is best (integer ratings only)"
   ]
  },
  {
   "cell_type": "markdown",
   "metadata": {},
   "source": [
    "# Data Preparation "
   ]
  },
  {
   "cell_type": "code",
   "execution_count": 11,
   "metadata": {},
   "outputs": [],
   "source": [
    "from surprise import Dataset\n",
    "from surprise import Reader\n",
    "from surprise.model_selection import cross_validate\n",
    "from surprise.model_selection import train_test_split\n",
    "from surprise import accuracy\n",
    "from collections import defaultdict\n",
    "from operator import itemgetter\n",
    "from surprise.model_selection import GridSearchCV\n",
    "from surprise import KNNBaseline, KNNWithZScore, NormalPredictor, KNNWithMeans, BaselineOnly, SVD, KNNBasic, SlopeOne, NMF, CoClustering\n",
    "\n",
    "# import heapq\n",
    "import random \n",
    "import numpy as np\n",
    "import itertools\n",
    "import seaborn as sns\n",
    "import matplotlib.pyplot as plt\n",
    "import pandas as pd"
   ]
  },
  {
   "cell_type": "code",
   "execution_count": 41,
   "metadata": {},
   "outputs": [
    {
     "data": {
      "text/html": [
       "<div>\n",
       "<style scoped>\n",
       "    .dataframe tbody tr th:only-of-type {\n",
       "        vertical-align: middle;\n",
       "    }\n",
       "\n",
       "    .dataframe tbody tr th {\n",
       "        vertical-align: top;\n",
       "    }\n",
       "\n",
       "    .dataframe thead th {\n",
       "        text-align: right;\n",
       "    }\n",
       "</style>\n",
       "<table border=\"1\" class=\"dataframe\">\n",
       "  <thead>\n",
       "    <tr style=\"text-align: right;\">\n",
       "      <th></th>\n",
       "      <th>userID</th>\n",
       "      <th>candidateID</th>\n",
       "      <th>rating</th>\n",
       "    </tr>\n",
       "  </thead>\n",
       "  <tbody>\n",
       "    <tr>\n",
       "      <th>0</th>\n",
       "      <td>1</td>\n",
       "      <td>133</td>\n",
       "      <td>8</td>\n",
       "    </tr>\n",
       "    <tr>\n",
       "      <th>1</th>\n",
       "      <td>1</td>\n",
       "      <td>720</td>\n",
       "      <td>6</td>\n",
       "    </tr>\n",
       "    <tr>\n",
       "      <th>2</th>\n",
       "      <td>1</td>\n",
       "      <td>971</td>\n",
       "      <td>10</td>\n",
       "    </tr>\n",
       "    <tr>\n",
       "      <th>3</th>\n",
       "      <td>1</td>\n",
       "      <td>1095</td>\n",
       "      <td>7</td>\n",
       "    </tr>\n",
       "    <tr>\n",
       "      <th>4</th>\n",
       "      <td>1</td>\n",
       "      <td>1616</td>\n",
       "      <td>10</td>\n",
       "    </tr>\n",
       "  </tbody>\n",
       "</table>\n",
       "</div>"
      ],
      "text/plain": [
       "   userID  candidateID  rating\n",
       "0       1          133       8\n",
       "1       1          720       6\n",
       "2       1          971      10\n",
       "3       1         1095       7\n",
       "4       1         1616      10"
      ]
     },
     "execution_count": 41,
     "metadata": {},
     "output_type": "execute_result"
    }
   ],
   "source": [
    "# reading file into a pandas data frame from the source. File is to big to push it to GitHub, even zip version\n",
    "data = pd.read_csv(\"https://raw.githubusercontent.com/olgashiligin/DATA_612/master/final%20project/ratings_1000.csv\", header=None)\n",
    "data.columns = [\"userID\", \"candidateID\", \"rating\"]\n",
    "data.head()"
   ]
  },
  {
   "cell_type": "code",
   "execution_count": 14,
   "metadata": {},
   "outputs": [
    {
     "data": {
      "text/plain": [
       "10    28885\n",
       "9      9459\n",
       "8     13771\n",
       "7     14890\n",
       "6     13133\n",
       "5     16786\n",
       "4      9502\n",
       "3      8583\n",
       "2     10787\n",
       "1     20752\n",
       "Name: rating, dtype: int64"
      ]
     },
     "execution_count": 14,
     "metadata": {},
     "output_type": "execute_result"
    }
   ],
   "source": [
    "#  rating distribution\n",
    "data.rating.value_counts().sort_index(ascending=False)"
   ]
  },
  {
   "cell_type": "code",
   "execution_count": 15,
   "metadata": {},
   "outputs": [
    {
     "data": {
      "image/png": "[encoded data removed]",
      "text/plain": [
       "<Figure size 432x288 with 1 Axes>"
      ]
     },
     "metadata": {
      "needs_background": "light"
     },
     "output_type": "display_data"
    }
   ],
   "source": [
    "# rating distribution (graph)\n",
    "data.rating.value_counts().sort_index(ascending=False).plot(kind='bar')\n",
    "plt.title('Rating Distribution')\n",
    "plt.ylabel('Number Of Users')\n",
    "plt.show()"
   ]
  },
  {
   "cell_type": "markdown",
   "metadata": {},
   "source": [
    "10 is the most popular rating. 1 and 5 are also polular ratings."
   ]
  },
  {
   "cell_type": "code",
   "execution_count": 16,
   "metadata": {},
   "outputs": [
    {
     "data": {
      "text/html": [
       "<div>\n",
       "<style scoped>\n",
       "    .dataframe tbody tr th:only-of-type {\n",
       "        vertical-align: middle;\n",
       "    }\n",
       "\n",
       "    .dataframe tbody tr th {\n",
       "        vertical-align: top;\n",
       "    }\n",
       "\n",
       "    .dataframe thead th {\n",
       "        text-align: right;\n",
       "    }\n",
       "</style>\n",
       "<table border=\"1\" class=\"dataframe\">\n",
       "  <thead>\n",
       "    <tr style=\"text-align: right;\">\n",
       "      <th></th>\n",
       "      <th>candidateID</th>\n",
       "      <th>rating</th>\n",
       "    </tr>\n",
       "  </thead>\n",
       "  <tbody>\n",
       "    <tr>\n",
       "      <th>33899</th>\n",
       "      <td>156148</td>\n",
       "      <td>240</td>\n",
       "    </tr>\n",
       "    <tr>\n",
       "      <th>6711</th>\n",
       "      <td>31116</td>\n",
       "      <td>218</td>\n",
       "    </tr>\n",
       "    <tr>\n",
       "      <th>26648</th>\n",
       "      <td>121859</td>\n",
       "      <td>182</td>\n",
       "    </tr>\n",
       "    <tr>\n",
       "      <th>41569</th>\n",
       "      <td>193687</td>\n",
       "      <td>169</td>\n",
       "    </tr>\n",
       "    <tr>\n",
       "      <th>18350</th>\n",
       "      <td>83773</td>\n",
       "      <td>159</td>\n",
       "    </tr>\n",
       "    <tr>\n",
       "      <th>19668</th>\n",
       "      <td>89855</td>\n",
       "      <td>151</td>\n",
       "    </tr>\n",
       "    <tr>\n",
       "      <th>15666</th>\n",
       "      <td>71636</td>\n",
       "      <td>148</td>\n",
       "    </tr>\n",
       "    <tr>\n",
       "      <th>4743</th>\n",
       "      <td>22319</td>\n",
       "      <td>140</td>\n",
       "    </tr>\n",
       "    <tr>\n",
       "      <th>4410</th>\n",
       "      <td>20737</td>\n",
       "      <td>138</td>\n",
       "    </tr>\n",
       "    <tr>\n",
       "      <th>7166</th>\n",
       "      <td>33216</td>\n",
       "      <td>138</td>\n",
       "    </tr>\n",
       "  </tbody>\n",
       "</table>\n",
       "</div>"
      ],
      "text/plain": [
       "       candidateID  rating\n",
       "33899       156148     240\n",
       "6711         31116     218\n",
       "26648       121859     182\n",
       "41569       193687     169\n",
       "18350        83773     159\n",
       "19668        89855     151\n",
       "15666        71636     148\n",
       "4743         22319     140\n",
       "4410         20737     138\n",
       "7166         33216     138"
      ]
     },
     "execution_count": 16,
     "metadata": {},
     "output_type": "execute_result"
    }
   ],
   "source": [
    "# number of ratings per each candidate\n",
    "data.groupby('candidateID')['rating'].count().reset_index().sort_values('rating', ascending=False)[:10]"
   ]
  },
  {
   "cell_type": "markdown",
   "metadata": {},
   "source": [
    "# User-Based and Item-Based (top N recommendations)"
   ]
  },
  {
   "cell_type": "markdown",
   "metadata": {},
   "source": [
    "The first algorithm that will be built is user-based collaborative filtering. I will take the \"test user\" (for example,10th user) and find the top 10 candidates for the \"test user\" via following steps:\n",
    "\n",
    "1. Candidate generation step when we pull all the candidates in from every neighbor of the selected \"test user\". Neighbours for the \"test user\" is selected based on the similarity measure.\n",
    "\n",
    "2. Candidate scoring allows to select the best candidates for the \"test user\". I will weigh ratings by users similarity.\n",
    "\n",
    "3. Sorting the candidates by their final score.\n",
    "\n",
    "4. Candidates filtering where I filter out candidates which the \"test user\" has already rated. Also I will apply filter on the min candidate score or min similarity."
   ]
  },
  {
   "cell_type": "code",
   "execution_count": 53,
   "metadata": {},
   "outputs": [],
   "source": [
    "# reading csv file\n",
    "reader = Reader(sep=',', rating_scale=(1, 10))\n",
    "data = Dataset.load_from_file(\"/Users/Olga/PycharmProjects/rec_sys_final/ratings_1000.csv\", reader=reader)\n",
    "# splitting data set on train and test\n",
    "trainSet, testSet = train_test_split(data, test_size=0.2)"
   ]
  },
  {
   "cell_type": "code",
   "execution_count": 19,
   "metadata": {},
   "outputs": [
    {
     "name": "stdout",
     "output_type": "stream",
     "text": [
      "Computing the cosine similarity matrix...\n",
      "Done computing similarity matrix.\n",
      "Computing the cosine similarity matrix...\n",
      "Done computing similarity matrix.\n"
     ]
    }
   ],
   "source": [
    "#  assigning similarity measure options\n",
    "sim_options = {'name': 'cosine', 'user_based': True}\n",
    "\n",
    "#  computing user to user similarity matrix using KNNBasic algorithm\n",
    "model = KNNBasic(sim_options = sim_options)\n",
    "model.fit(trainSet)\n",
    "simMatrix = model.compute_similarities()"
   ]
  },
  {
   "cell_type": "code",
   "execution_count": 20,
   "metadata": {},
   "outputs": [
    {
     "name": "stdout",
     "output_type": "stream",
     "text": [
      "33216 45.154194077439186\n",
      "22319 38.02369596596644\n",
      "113157 36.86256298243028\n",
      "71570 28.898251052139255\n",
      "81470 24.77152711555244\n",
      "97992 18.711020415926267\n",
      "22327 18.6\n",
      "73728 17.21974592397711\n",
      "74257 17.116045795877078\n",
      "25978 16.44537607994736\n"
     ]
    }
   ],
   "source": [
    "# selecting test user - for example, 10th user\n",
    "testUser = '10'\n",
    "\n",
    "# extracting similar users to our test user\n",
    "testUserInnerID = trainSet.to_inner_uid(testUser)\n",
    "similarityRow = simMatrix[testUserInnerID]\n",
    "\n",
    "# converting these users to the list of tuples containing inner user Id and similarity score (skipping the test user similarity to him/herself)\n",
    "similarUsers = []\n",
    "for innerID, score in enumerate(similarityRow):\n",
    "    if (innerID != testUserInnerID):\n",
    "        similarUsers.append( (innerID, score) )\n",
    "        \n",
    "#  filtering out users with similarity score to the test user less than 0.95   \n",
    "kNeighbors = []\n",
    "for rating in similarUsers:\n",
    "    if rating[1] > 0.95:\n",
    "        kNeighbors.append(rating)\n",
    "\n",
    "# getting the candidates the users have rated, and adding up ratings for each candidate, weighted by user similarity\n",
    "candidates = defaultdict(float)\n",
    "for similarUser in kNeighbors:\n",
    "    innerID = similarUser[0]\n",
    "    userSimilarityScore = similarUser[1]\n",
    "    theirRatings = trainSet.ur[innerID]\n",
    "    for rating in theirRatings:\n",
    "        candidates[rating[0]] += (rating[1]/10.0) * userSimilarityScore\n",
    "\n",
    "# Building a dictionary of candidates that the test user has already rated\n",
    "rated = {}\n",
    "for candidateID, rating in trainSet.ur[testUserInnerID]:\n",
    "    rated[candidateID] = 1\n",
    "\n",
    "# getting 10 top-rated candidates for the test user:\n",
    "n = 10\n",
    "pos = 1\n",
    "# sorting the candidates by the final score and selecting top 10 skipping the results that the test user has already rated.\n",
    "for candidateID, ratingSum in sorted(candidates.items(), key=itemgetter(1), reverse=True):\n",
    "    if not candidateID in rated:\n",
    "        candidateID = trainSet.to_raw_iid(candidateID)\n",
    "#       printing candidates IDs for 10th test user \n",
    "        print(candidateID, ratingSum)\n",
    "        pos += 1\n",
    "        if (pos > n):\n",
    "            break"
   ]
  },
  {
   "cell_type": "markdown",
   "metadata": {},
   "source": [
    " Next algorithm that I am going to implement is item-based. I will take the same \"test user\" (10th user) and find the top 10 candidates for the \"test user\" using item-based collaborative filtering.\n",
    "Item similarities can be better then similarities between users because items tend to have more permanent nature, unlike users' tastes. That's why focusing on the similarities between unchanging objects may produce better results.\n",
    "The algorithms for item-based recommendations is quite similar to user - based, we are just focusing on the relations between items instead of users."
   ]
  },
  {
   "cell_type": "code",
   "execution_count": 21,
   "metadata": {},
   "outputs": [
    {
     "name": "stdout",
     "output_type": "stream",
     "text": [
      "Computing the cosine similarity matrix...\n",
      "Done computing similarity matrix.\n",
      "Computing the cosine similarity matrix...\n",
      "Done computing similarity matrix.\n"
     ]
    }
   ],
   "source": [
    "#  assigning similarity measure options\n",
    "sim_options = {'name': 'cosine',\n",
    "               'user_based': False\n",
    "               }\n",
    "\n",
    "#  computing candidate to candidate similarity matrix \n",
    "model = KNNBasic(sim_options=sim_options)\n",
    "model.fit(trainSet)\n",
    "simsMatrix = model.compute_similarities()"
   ]
  },
  {
   "cell_type": "code",
   "execution_count": 22,
   "metadata": {},
   "outputs": [
    {
     "name": "stdout",
     "output_type": "stream",
     "text": [
      "113666 2.8\n",
      "110424 2.8\n",
      "109899 2.8\n",
      "200492 2.798446935857496\n",
      "9652 2.788986668796162\n",
      "77036 2.773687418864638\n",
      "71570 2.771559411588529\n",
      "22319 2.756795134263671\n",
      "125439 2.7461785443066185\n",
      "82986 2.7405691595989397\n"
     ]
    }
   ],
   "source": [
    "# selecting test user - for example, 10th user\n",
    "testUser = '10'\n",
    "\n",
    "# converting a user raw id to an inner id\n",
    "testUserInnerID = trainSet.to_inner_uid(testUser)\n",
    "# extracting similar candidates to the candidates the test user prefer\n",
    "testUserRatings = trainSet.ur[testUserInnerID]\n",
    "\n",
    "# filtering out candidates with rating less then 8\n",
    "kNeighbors = []\n",
    "for rating in testUserRatings:\n",
    "    if rating[1] > 8.0:\n",
    "        kNeighbors.append(rating)\n",
    "        \n",
    "\n",
    "# getting the candidates and adding up ratings for each candidate, weighted by similarity score\n",
    "candidates = defaultdict(float)\n",
    "for candidateID, rating in kNeighbors:\n",
    "    similarityRow = simsMatrix[candidateID]\n",
    "    for innerID, score in enumerate(similarityRow):\n",
    "        candidates[innerID] += score * (rating)/10.0\n",
    "    \n",
    "# building a dictionary of candidates that the test user has already seen\n",
    "rated = {}\n",
    "for candidateID, rating in trainSet.ur[testUserInnerID]:\n",
    "    rated[candidateID] = 1\n",
    "    \n",
    "# getting 10 top-rated candidated for the test user:\n",
    "n = 10\n",
    "pos = 1\n",
    "for candidateID, ratingSum in sorted(candidates.items(), key=itemgetter(1), reverse=True):\n",
    "    if not candidateID in rated:\n",
    "        candidateID = trainSet.to_raw_iid(candidateID)\n",
    "        print(candidateID, ratingSum)\n",
    "        pos += 1\n",
    "        if (pos > n):\n",
    "            break\n",
    "\n",
    "    "
   ]
  },
  {
   "cell_type": "markdown",
   "metadata": {},
   "source": [
    "User-based and item-based algorithms produced quite different recommendations: only 2 out of 10 recommendations are similar for the 10th user. It is hard to tell if they are good or bad. I can not measure accuracy for the simple ser-/item-based algorithms produced above as they are not rating prediction methods which I will consider further."
   ]
  },
  {
   "cell_type": "markdown",
   "metadata": {},
   "source": [
    "# KNN Recommender Algorithms"
   ]
  },
  {
   "cell_type": "markdown",
   "metadata": {},
   "source": [
    "The concept of collaborative filtering has been applied to recommender systems that make rating predictions and this is called KNN recommenders.\n",
    "In KNN recommender systems we are generating recommendation candidates by predicting their rating and selecting top K candidates with the highest predicted rating. Since we are using ratings prediction we can measure system accuracy via train/test split or cross-validation. \n",
    "\n",
    "KNN recommenders are not just recommending candidates that people similar to the selected user like, but also they are trying to predict rating for every possible candidate for every possible user. \n",
    "\n",
    "The following basics algorithms will be benchmarked in order to select the best one:\n",
    "\n",
    "    - NormalPredictor algorithm predicts a random rating based on the distribution of the training set, which is assumed to be normal.\n",
    "    - KNNBaseline is a basic collaborative filtering algorithm taking into account a baseline rating.\n",
    "    - KNNBasic is a basic collaborative filtering algorithm.\n",
    "    - KNNWithMeans is basic collaborative filtering algorithm, taking into account the mean ratings of each user.\n",
    "    - KNNWithZScore is a basic collaborative filtering algorithm, taking into account the z-score normalization of each user.\n",
    "    - BaselineOnly is a basic collaborative filtering algorithm taking into account a baseline rating.\n",
    "    - SVD is a method that utilizes matrix factorization technique.\n",
    "    \n",
    "Some of these algorithms use baseline estimates, some use a similarity measures.  \n",
    "These algorithms will be tested using user- and item-based approach with cosine or pearson similarity measure. Cross-validation will be applied to measure algorithms accuracy via RMSE."
   ]
  },
  {
   "cell_type": "code",
   "execution_count": 23,
   "metadata": {},
   "outputs": [
    {
     "name": "stdout",
     "output_type": "stream",
     "text": [
      "Estimating biases using als...\n",
      "Computing the cosine similarity matrix...\n",
      "Done computing similarity matrix.\n",
      "Estimating biases using als...\n",
      "Computing the cosine similarity matrix...\n",
      "Done computing similarity matrix.\n",
      "Estimating biases using als...\n",
      "Computing the cosine similarity matrix...\n",
      "Done computing similarity matrix.\n",
      "Computing the cosine similarity matrix...\n",
      "Done computing similarity matrix.\n",
      "Computing the cosine similarity matrix...\n",
      "Done computing similarity matrix.\n",
      "Computing the cosine similarity matrix...\n",
      "Done computing similarity matrix.\n",
      "Computing the cosine similarity matrix...\n",
      "Done computing similarity matrix.\n",
      "Computing the cosine similarity matrix...\n",
      "Done computing similarity matrix.\n",
      "Computing the cosine similarity matrix...\n",
      "Done computing similarity matrix.\n",
      "Computing the cosine similarity matrix...\n",
      "Done computing similarity matrix.\n",
      "Computing the cosine similarity matrix...\n",
      "Done computing similarity matrix.\n",
      "Computing the cosine similarity matrix...\n",
      "Done computing similarity matrix.\n",
      "Estimating biases using als...\n",
      "Estimating biases using als...\n",
      "Estimating biases using als...\n"
     ]
    },
    {
     "data": {
      "text/html": [
       "<div>\n",
       "<style scoped>\n",
       "    .dataframe tbody tr th:only-of-type {\n",
       "        vertical-align: middle;\n",
       "    }\n",
       "\n",
       "    .dataframe tbody tr th {\n",
       "        vertical-align: top;\n",
       "    }\n",
       "\n",
       "    .dataframe thead th {\n",
       "        text-align: right;\n",
       "    }\n",
       "</style>\n",
       "<table border=\"1\" class=\"dataframe\">\n",
       "  <thead>\n",
       "    <tr style=\"text-align: right;\">\n",
       "      <th></th>\n",
       "      <th>test_rmse</th>\n",
       "      <th>fit_time</th>\n",
       "      <th>test_time</th>\n",
       "    </tr>\n",
       "    <tr>\n",
       "      <th>Algorithm</th>\n",
       "      <th></th>\n",
       "      <th></th>\n",
       "      <th></th>\n",
       "    </tr>\n",
       "  </thead>\n",
       "  <tbody>\n",
       "    <tr>\n",
       "      <th>KNNBaseline</th>\n",
       "      <td>2.374041</td>\n",
       "      <td>0.616729</td>\n",
       "      <td>1.436186</td>\n",
       "    </tr>\n",
       "    <tr>\n",
       "      <th>KNNWithMeans</th>\n",
       "      <td>2.465770</td>\n",
       "      <td>0.276004</td>\n",
       "      <td>1.066208</td>\n",
       "    </tr>\n",
       "    <tr>\n",
       "      <th>KNNWithZScore</th>\n",
       "      <td>2.475599</td>\n",
       "      <td>0.339966</td>\n",
       "      <td>1.224553</td>\n",
       "    </tr>\n",
       "    <tr>\n",
       "      <th>SVD</th>\n",
       "      <td>2.480321</td>\n",
       "      <td>6.246900</td>\n",
       "      <td>0.488930</td>\n",
       "    </tr>\n",
       "    <tr>\n",
       "      <th>BaselineOnly</th>\n",
       "      <td>2.521116</td>\n",
       "      <td>0.369429</td>\n",
       "      <td>0.328299</td>\n",
       "    </tr>\n",
       "    <tr>\n",
       "      <th>KNNBasic</th>\n",
       "      <td>2.582169</td>\n",
       "      <td>0.247367</td>\n",
       "      <td>1.111087</td>\n",
       "    </tr>\n",
       "    <tr>\n",
       "      <th>NormalPredictor</th>\n",
       "      <td>4.131257</td>\n",
       "      <td>0.156038</td>\n",
       "      <td>0.369851</td>\n",
       "    </tr>\n",
       "  </tbody>\n",
       "</table>\n",
       "</div>"
      ],
      "text/plain": [
       "                 test_rmse  fit_time  test_time\n",
       "Algorithm                                      \n",
       "KNNBaseline       2.374041  0.616729   1.436186\n",
       "KNNWithMeans      2.465770  0.276004   1.066208\n",
       "KNNWithZScore     2.475599  0.339966   1.224553\n",
       "SVD               2.480321  6.246900   0.488930\n",
       "BaselineOnly      2.521116  0.369429   0.328299\n",
       "KNNBasic          2.582169  0.247367   1.111087\n",
       "NormalPredictor   4.131257  0.156038   0.369851"
      ]
     },
     "execution_count": 23,
     "metadata": {},
     "output_type": "execute_result"
    }
   ],
   "source": [
    "benchmark = []\n",
    "sim_options = {'name': 'cosine', 'user_based': True}\n",
    "# iterating over all algorithms\n",
    "for algorithm in [SVD(), NormalPredictor(), KNNBaseline(sim_options=sim_options), KNNBasic(sim_options=sim_options), KNNWithMeans(sim_options=sim_options), KNNWithZScore(sim_options=sim_options), BaselineOnly()]:\n",
    "    # performing 3 fold cross validation\n",
    "    results = cross_validate(algorithm, data, measures=['RMSE'], cv=3, verbose=False)\n",
    "    \n",
    "    # getting results & appending algorithm name\n",
    "    tmp = pd.DataFrame.from_dict(results).mean(axis=0)\n",
    "    tmp = tmp.append(pd.Series([str(algorithm).split(' ')[0].split('.')[-1]], index=['Algorithm']))\n",
    "    benchmark.append(tmp)\n",
    "    \n",
    "pd.DataFrame(benchmark).set_index('Algorithm').sort_values('test_rmse')  "
   ]
  },
  {
   "cell_type": "code",
   "execution_count": 24,
   "metadata": {
    "scrolled": true
   },
   "outputs": [
    {
     "name": "stdout",
     "output_type": "stream",
     "text": [
      "Estimating biases using als...\n",
      "Computing the pearson similarity matrix...\n",
      "Done computing similarity matrix.\n",
      "Estimating biases using als...\n",
      "Computing the pearson similarity matrix...\n",
      "Done computing similarity matrix.\n",
      "Estimating biases using als...\n",
      "Computing the pearson similarity matrix...\n",
      "Done computing similarity matrix.\n",
      "Computing the pearson similarity matrix...\n",
      "Done computing similarity matrix.\n",
      "Computing the pearson similarity matrix...\n",
      "Done computing similarity matrix.\n",
      "Computing the pearson similarity matrix...\n",
      "Done computing similarity matrix.\n",
      "Computing the pearson similarity matrix...\n",
      "Done computing similarity matrix.\n",
      "Computing the pearson similarity matrix...\n",
      "Done computing similarity matrix.\n",
      "Computing the pearson similarity matrix...\n",
      "Done computing similarity matrix.\n",
      "Computing the pearson similarity matrix...\n",
      "Done computing similarity matrix.\n",
      "Computing the pearson similarity matrix...\n",
      "Done computing similarity matrix.\n",
      "Computing the pearson similarity matrix...\n",
      "Done computing similarity matrix.\n",
      "Estimating biases using als...\n",
      "Estimating biases using als...\n",
      "Estimating biases using als...\n"
     ]
    },
    {
     "data": {
      "text/html": [
       "<div>\n",
       "<style scoped>\n",
       "    .dataframe tbody tr th:only-of-type {\n",
       "        vertical-align: middle;\n",
       "    }\n",
       "\n",
       "    .dataframe tbody tr th {\n",
       "        vertical-align: top;\n",
       "    }\n",
       "\n",
       "    .dataframe thead th {\n",
       "        text-align: right;\n",
       "    }\n",
       "</style>\n",
       "<table border=\"1\" class=\"dataframe\">\n",
       "  <thead>\n",
       "    <tr style=\"text-align: right;\">\n",
       "      <th></th>\n",
       "      <th>test_rmse</th>\n",
       "      <th>fit_time</th>\n",
       "      <th>test_time</th>\n",
       "    </tr>\n",
       "    <tr>\n",
       "      <th>Algorithm</th>\n",
       "      <th></th>\n",
       "      <th></th>\n",
       "      <th></th>\n",
       "    </tr>\n",
       "  </thead>\n",
       "  <tbody>\n",
       "    <tr>\n",
       "      <th>KNNBaseline</th>\n",
       "      <td>2.390775</td>\n",
       "      <td>0.676031</td>\n",
       "      <td>1.224962</td>\n",
       "    </tr>\n",
       "    <tr>\n",
       "      <th>SVD</th>\n",
       "      <td>2.482256</td>\n",
       "      <td>6.440402</td>\n",
       "      <td>0.498487</td>\n",
       "    </tr>\n",
       "    <tr>\n",
       "      <th>KNNWithZScore</th>\n",
       "      <td>2.487862</td>\n",
       "      <td>0.439788</td>\n",
       "      <td>1.259079</td>\n",
       "    </tr>\n",
       "    <tr>\n",
       "      <th>KNNWithMeans</th>\n",
       "      <td>2.489275</td>\n",
       "      <td>0.368903</td>\n",
       "      <td>1.107933</td>\n",
       "    </tr>\n",
       "    <tr>\n",
       "      <th>BaselineOnly</th>\n",
       "      <td>2.521466</td>\n",
       "      <td>0.392932</td>\n",
       "      <td>0.339808</td>\n",
       "    </tr>\n",
       "    <tr>\n",
       "      <th>KNNBasic</th>\n",
       "      <td>2.600046</td>\n",
       "      <td>0.329244</td>\n",
       "      <td>1.081094</td>\n",
       "    </tr>\n",
       "    <tr>\n",
       "      <th>NormalPredictor</th>\n",
       "      <td>4.139537</td>\n",
       "      <td>0.161848</td>\n",
       "      <td>0.412155</td>\n",
       "    </tr>\n",
       "  </tbody>\n",
       "</table>\n",
       "</div>"
      ],
      "text/plain": [
       "                 test_rmse  fit_time  test_time\n",
       "Algorithm                                      \n",
       "KNNBaseline       2.390775  0.676031   1.224962\n",
       "SVD               2.482256  6.440402   0.498487\n",
       "KNNWithZScore     2.487862  0.439788   1.259079\n",
       "KNNWithMeans      2.489275  0.368903   1.107933\n",
       "BaselineOnly      2.521466  0.392932   0.339808\n",
       "KNNBasic          2.600046  0.329244   1.081094\n",
       "NormalPredictor   4.139537  0.161848   0.412155"
      ]
     },
     "execution_count": 24,
     "metadata": {},
     "output_type": "execute_result"
    }
   ],
   "source": [
    "benchmark = []\n",
    "sim_options = {'name': 'pearson', 'user_based': True}\n",
    "# iterating over all algorithms\n",
    "for algorithm in [SVD(), NormalPredictor(), KNNBaseline(sim_options=sim_options), KNNBasic(sim_options=sim_options), KNNWithMeans(sim_options=sim_options), KNNWithZScore(sim_options=sim_options), BaselineOnly()]:\n",
    "    # performing 3 fold cross validation\n",
    "    results = cross_validate(algorithm, data, measures=['RMSE'], cv=3, verbose=False)\n",
    "    \n",
    "    # getting results & appending algorithm name\n",
    "    tmp = pd.DataFrame.from_dict(results).mean(axis=0)\n",
    "    tmp = tmp.append(pd.Series([str(algorithm).split(' ')[0].split('.')[-1]], index=['Algorithm']))\n",
    "    benchmark.append(tmp)\n",
    "    \n",
    "pd.DataFrame(benchmark).set_index('Algorithm').sort_values('test_rmse')  "
   ]
  },
  {
   "cell_type": "markdown",
   "metadata": {},
   "source": [
    "The most accurate result produces KNNBaseline, the worst - NormalPredictor, although it is the fastest algorithm. I am going to train and predict with KNNBaseline method."
   ]
  },
  {
   "cell_type": "code",
   "execution_count": 27,
   "metadata": {},
   "outputs": [
    {
     "name": "stdout",
     "output_type": "stream",
     "text": [
      "Estimating biases using als...\n",
      "Computing the pearson similarity matrix...\n",
      "Done computing similarity matrix.\n",
      "RMSE: 2.3180\n"
     ]
    },
    {
     "data": {
      "text/plain": [
       "2.318025404185668"
      ]
     },
     "execution_count": 27,
     "metadata": {},
     "output_type": "execute_result"
    }
   ],
   "source": [
    "#  splitting data on train and test set\n",
    "trainSet, testSet = train_test_split(data, test_size=.15)\n",
    "# selecting similarity options which gave the best result during cross-validation: user-based and pearson.\n",
    "sim_options = {'name': 'pearson', 'user_based': True}\n",
    "#  building the model\n",
    "algo = KNNBaseline(sim_options = sim_options)\n",
    "model = algo.fit(trainSet)\n",
    "#  making predictions\n",
    "predictions = model.test(testSet)\n",
    "# calculating RMSE\n",
    "accuracy.rmse(predictions)\n"
   ]
  },
  {
   "cell_type": "code",
   "execution_count": 28,
   "metadata": {},
   "outputs": [],
   "source": [
    "# source: https://nbviewer.jupyter.org/github/NicolasHug/Surprise/blob/master/examples/notebooks/KNNBasic_analysis.ipynb\n",
    "# selecting top 10 best and worst predictions.\n",
    "def get_Iu(uid):\n",
    "    \"\"\" return the number of items rated by given user\n",
    "    args: \n",
    "      uid: the id of the user\n",
    "    returns: \n",
    "      the number of items rated by the user\n",
    "    \"\"\"\n",
    "    try:\n",
    "        return len(trainSet.ur[trainSet.to_inner_uid(uid)])\n",
    "    except ValueError: # user was not part of the trainSet\n",
    "        return 0\n",
    "    \n",
    "def get_Ui(iid):\n",
    "    \"\"\" return number of users that have rated given item\n",
    "    args:\n",
    "      iid: the raw id of the item\n",
    "    returns:\n",
    "      the number of users that have rated the item.\n",
    "    \"\"\"\n",
    "    try: \n",
    "        return len(trainSet.ir[trainSet.to_inner_iid(iid)])\n",
    "    except ValueError:\n",
    "        return 0\n",
    "    \n",
    "df = pd.DataFrame(predictions, columns=['uid', 'iid', 'rui', 'est', 'details'])\n",
    "df['Iu'] = df.uid.apply(get_Iu)\n",
    "df['Ui'] = df.iid.apply(get_Ui)\n",
    "df['err'] = abs(df.est - df.rui)\n",
    "best_predictions = df.sort_values(by='err')[:10]\n",
    "worst_predictions = df.sort_values(by='err')[-10:]"
   ]
  },
  {
   "cell_type": "code",
   "execution_count": 29,
   "metadata": {},
   "outputs": [
    {
     "name": "stdout",
     "output_type": "stream",
     "text": [
      "       uid     iid   rui   est                                    details  \\\n",
      "21982  712  214534   1.0   1.0   {'actual_k': 1, 'was_impossible': False}   \n",
      "11551  572   30031   1.0   1.0  {'actual_k': 10, 'was_impossible': False}   \n",
      "11583  348  144691   1.0   1.0   {'actual_k': 6, 'was_impossible': False}   \n",
      "11584   31   79138  10.0  10.0   {'actual_k': 7, 'was_impossible': False}   \n",
      "11588  956    9759  10.0  10.0  {'actual_k': 13, 'was_impossible': False}   \n",
      "11593  284   83846  10.0  10.0  {'actual_k': 14, 'was_impossible': False}   \n",
      "11681  855   69366  10.0  10.0   {'actual_k': 5, 'was_impossible': False}   \n",
      "11685  783   66986  10.0  10.0   {'actual_k': 1, 'was_impossible': False}   \n",
      "11717  720  132688  10.0  10.0  {'actual_k': 15, 'was_impossible': False}   \n",
      "1904   805  139250  10.0  10.0   {'actual_k': 2, 'was_impossible': False}   \n",
      "\n",
      "         Iu  Ui  err  \n",
      "21982   154   1  0.0  \n",
      "11551   163  13  0.0  \n",
      "11583   507   6  0.0  \n",
      "11584   349   7  0.0  \n",
      "11588   264  15  0.0  \n",
      "11593    81  16  0.0  \n",
      "11681   105  19  0.0  \n",
      "11685   145   5  0.0  \n",
      "11717  2487  15  0.0  \n",
      "1904     64   3  0.0  \n"
     ]
    }
   ],
   "source": [
    "print(best_predictions)"
   ]
  },
  {
   "cell_type": "code",
   "execution_count": 30,
   "metadata": {},
   "outputs": [
    {
     "name": "stdout",
     "output_type": "stream",
     "text": [
      "       uid     iid   rui   est                                   details  \\\n",
      "19138  879   51214  10.0   1.0  {'actual_k': 1, 'was_impossible': False}   \n",
      "21328  251  188712  10.0   1.0  {'actual_k': 1, 'was_impossible': False}   \n",
      "19131  194  186880  10.0   1.0  {'actual_k': 1, 'was_impossible': False}   \n",
      "1407   783  182016   1.0  10.0  {'actual_k': 2, 'was_impossible': False}   \n",
      "6514   248   73971  10.0   1.0  {'actual_k': 1, 'was_impossible': False}   \n",
      "711    730  131978  10.0   1.0  {'actual_k': 1, 'was_impossible': False}   \n",
      "18227   35  129599   1.0  10.0  {'actual_k': 2, 'was_impossible': False}   \n",
      "4202   348  184479   1.0  10.0  {'actual_k': 1, 'was_impossible': False}   \n",
      "507    757   66102   1.0  10.0  {'actual_k': 1, 'was_impossible': False}   \n",
      "1990     9   93420   1.0  10.0  {'actual_k': 1, 'was_impossible': False}   \n",
      "\n",
      "         Iu  Ui  err  \n",
      "19138  1555   1  9.0  \n",
      "21328  2308   1  9.0  \n",
      "19131    56   1  9.0  \n",
      "1407    145   5  9.0  \n",
      "6514    396   1  9.0  \n",
      "711    1432   1  9.0  \n",
      "18227   147   2  9.0  \n",
      "4202    507   1  9.0  \n",
      "507    2163   1  9.0  \n",
      "1990   2986   1  9.0  \n"
     ]
    }
   ],
   "source": [
    "print(worst_predictions)"
   ]
  },
  {
   "cell_type": "code",
   "execution_count": 31,
   "metadata": {},
   "outputs": [
    {
     "name": "stdout",
     "output_type": "stream",
     "text": [
      "      uid     iid  rui       est                                   details  \\\n",
      "18303  10  116015  5.0  5.171557  {'actual_k': 5, 'was_impossible': False}   \n",
      "\n",
      "       Iu  Ui       err  \n",
      "18303  21   7  0.171557  \n"
     ]
    }
   ],
   "source": [
    "#  selecting predictions for the 10th user\n",
    "df_filtered = df[df['uid'] == \"10\"]\n",
    "print(df_filtered)"
   ]
  },
  {
   "cell_type": "markdown",
   "metadata": {},
   "source": [
    "# SVD"
   ]
  },
  {
   "cell_type": "markdown",
   "metadata": {},
   "source": [
    "Singular Value Decomposition algorithm showed good performance together with KNNBaseline, I will tune the SVD as it may help to improve accuracy. I am going to use GridSearchCV method to evaluate the performance of the SVD algorithm on various combinations of parameters and extract the best combination."
   ]
  },
  {
   "cell_type": "code",
   "execution_count": 32,
   "metadata": {},
   "outputs": [],
   "source": [
    "# building SVD model\n",
    "algo = SVD(random_state=10)\n",
    "algo.fit(trainSet)\n",
    "#  making predictions\n",
    "predictions = algo.test(testSet)"
   ]
  },
  {
   "cell_type": "code",
   "execution_count": 33,
   "metadata": {},
   "outputs": [
    {
     "name": "stdout",
     "output_type": "stream",
     "text": [
      "RMSE: 2.3874\n",
      "MAE:  1.9027\n"
     ]
    },
    {
     "data": {
      "text/plain": [
       "1.902654228621037"
      ]
     },
     "execution_count": 33,
     "metadata": {},
     "output_type": "execute_result"
    }
   ],
   "source": [
    "# computing model accuracy\n",
    "accuracy.rmse(predictions)\n",
    "accuracy.mae(predictions)"
   ]
  },
  {
   "cell_type": "markdown",
   "metadata": {},
   "source": [
    "# Tuning SVD model"
   ]
  },
  {
   "cell_type": "code",
   "execution_count": 34,
   "metadata": {},
   "outputs": [
    {
     "name": "stdout",
     "output_type": "stream",
     "text": [
      "Best RMSE score attained:  2.4381329819636353\n",
      "{'n_epochs': 30, 'lr_all': 0.01, 'n_factors': 50}\n"
     ]
    }
   ],
   "source": [
    "np.random.seed(0)\n",
    "random.seed(0)\n",
    "\n",
    "# dictionary with algorithm parameters as keys and list of values as keys.\n",
    "# 'lr_all' - learning rate\n",
    "# 'n_epochs' - number of steps to take\n",
    "# 'n_factors' - number of factors\n",
    "param_grid = {'n_epochs': [20, 30], 'lr_all': [0.005, 0.010],\n",
    "              'n_factors': [50, 100]}\n",
    "# running GridSearchCV method and selecting best parameters based on lowest RMSE\n",
    "gs = GridSearchCV(SVD, param_grid, measures=['rmse'], cv=3)\n",
    "gs.fit(data)\n",
    "\n",
    "# best RMSE score\n",
    "print(\"Best RMSE score attained: \", gs.best_score['rmse'])\n",
    "\n",
    "# combination of parameters that gave the best RMSE score\n",
    "print(gs.best_params['rmse'])\n",
    "params = gs.best_params['rmse']\n",
    "\n",
    "# applying selected best parameters to build a new algorithm\n",
    "SVDtuned = SVD(n_epochs = params['n_epochs'], lr_all = params['lr_all'], n_factors = params['n_factors'])"
   ]
  },
  {
   "cell_type": "code",
   "execution_count": 35,
   "metadata": {},
   "outputs": [
    {
     "name": "stdout",
     "output_type": "stream",
     "text": [
      "RMSE: 2.3556\n",
      "MAE:  1.8568\n"
     ]
    },
    {
     "data": {
      "text/plain": [
       "1.8567869323403596"
      ]
     },
     "execution_count": 35,
     "metadata": {},
     "output_type": "execute_result"
    }
   ],
   "source": [
    "#  making predictions\n",
    "SVDtuned.fit(trainSet)\n",
    "predictions_SVDtuned = SVDtuned.test(testSet)\n",
    "# computing model accuracy\n",
    "accuracy.rmse(predictions_SVDtuned)\n",
    "accuracy.mae(predictions_SVDtuned)"
   ]
  },
  {
   "cell_type": "markdown",
   "metadata": {},
   "source": [
    "As we see just tuning the parameters we can achieve higher accuracy results."
   ]
  },
  {
   "cell_type": "markdown",
   "metadata": {},
   "source": [
    "# Measuring Covarage and Diversity"
   ]
  },
  {
   "cell_type": "markdown",
   "metadata": {},
   "source": [
    "The recommendations that are most accurate according to the standard metrics are sometimes not the recommendations that are most useful to users. Some studies are argue that one of the goals of recommender systems is to provide a user with personalized items and more diverse recommendations result in more opportunities for users to get recommended such items and utilize “long-tail” area. \n",
    "\n",
    "Diversity\n",
    "\n",
    "Having diverse recommendations is important as it helps to avoid the popularity bias. There is a trade off between accuracy and diversity. We can consider diversity of the recommendations as 1 - total similarity between candidates. \n",
    "\n",
    "Coverage\n",
    "\n",
    "Coverage is the % of the possible recommendations that the system is able to provide. A lot of candidates in the system do not have ratings yet. Coverage gives a sense of how quickly new candidates start to appear in recommendations. \n",
    "\n",
    "I will calculate coverage and diversity of the KNN Baseline recommender system."
   ]
  },
  {
   "cell_type": "code",
   "execution_count": null,
   "metadata": {},
   "outputs": [],
   "source": [
    "# selecting similarity options\n",
    "sim_options = {'name': 'pearson_baseline', 'user_based': True}\n",
    "# fitting the algorithm to the whole dataset, rather than running cross-validation\n",
    "fullTrainSet = data.build_full_trainset()\n",
    "#  running KNNBaseline algorithm on the fullTrainSet\n",
    "simsAlgo = KNNBaseline(sim_options=sim_options)\n",
    "simsAlgo.fit(fullTrainSet)"
   ]
  },
  {
   "cell_type": "code",
   "execution_count": 37,
   "metadata": {},
   "outputs": [],
   "source": [
    "#  code is taken from \"surprise\" package documentation\n",
    "def get_top_n(predictions, n=10):\n",
    "    '''Return the top-N recommendation for each user from a set of predictions.\n",
    "\n",
    "    Args:\n",
    "        predictions(list of Prediction objects): The list of predictions, as\n",
    "            returned by the test method of an algorithm.\n",
    "        n(int): The number of recommendation to output for each user. Default\n",
    "            is 10.\n",
    "\n",
    "    Returns:\n",
    "    A dict where keys are user (raw) ids and values are lists of tuples:\n",
    "        [(raw item id, rating estimation), ...] of size n.\n",
    "    '''\n",
    "\n",
    "    # First map the predictions to each user.\n",
    "    top_n = defaultdict(list)\n",
    "    for uid, iid, true_r, est, _ in predictions:\n",
    "        top_n[uid].append((iid, est))\n",
    "\n",
    "    # Then sort the predictions for each user and retrieve the k highest ones.\n",
    "    for uid, user_ratings in top_n.items():\n",
    "        user_ratings.sort(key=lambda x: x[1], reverse=True)\n",
    "        top_n[uid] = user_ratings[:n]\n",
    "\n",
    "    return top_n"
   ]
  },
  {
   "cell_type": "code",
   "execution_count": 38,
   "metadata": {},
   "outputs": [],
   "source": [
    "#  predict ratings for all pairs (u, i) that are NOT in the training set.\n",
    "algo.fit(fullTrainSet)\n",
    "bigTestSet = fullTrainSet.build_anti_testset()\n",
    "allPredictions = algo.test(bigTestSet)\n",
    "#  making top 10 predictions for each user\n",
    "top_n = get_top_n(allPredictions, n=10)"
   ]
  },
  {
   "cell_type": "code",
   "execution_count": 39,
   "metadata": {},
   "outputs": [
    {
     "name": "stdout",
     "output_type": "stream",
     "text": [
      "calculating coverage...\n",
      "0.997\n"
     ]
    }
   ],
   "source": [
    "# What percentage of users have at least one \"good\" recommendation. I consider \"good\" recommendation with rating 8 and above\n",
    "def UserCoverage(topNPredicted, numUsers, ratingThreshold=8):\n",
    "    hits = 0\n",
    "    for userID in topNPredicted.keys():\n",
    "        hit = False\n",
    "        for candidateID, predictedRating in topNPredicted[userID]:\n",
    "            if (predictedRating >= ratingThreshold):\n",
    "                hit = True\n",
    "                break\n",
    "        if (hit):\n",
    "            hits += 1\n",
    "\n",
    "    return hits / numUsers\n",
    "\n",
    "\n",
    "\n",
    "coverage = UserCoverage(top_n, 1000)\n",
    "\n",
    "print(\"calculating coverage...\")\n",
    "print(coverage)"
   ]
  },
  {
   "cell_type": "code",
   "execution_count": 40,
   "metadata": {},
   "outputs": [
    {
     "name": "stdout",
     "output_type": "stream",
     "text": [
      "calculating diversity...\n",
      "Computing the pearson_baseline similarity matrix...\n",
      "Done computing similarity matrix.\n",
      "0.9499508975124918\n"
     ]
    }
   ],
   "source": [
    " # diversity\n",
    "\n",
    "def Diversity(topNPredicted, simsAlgo):\n",
    "    n = 0\n",
    "    total = 0\n",
    "#     building the similarity matrix, only relevant for the k-NN algorithms.\n",
    "    simsMatrix = simsAlgo.compute_similarities()\n",
    "    for userID in topNPredicted.keys():\n",
    "#          producing an iterator over the tuples of topNPredicted userIDs\n",
    "        pairs = itertools.combinations(topNPredicted[userID], 2)\n",
    "        for pair in pairs:\n",
    "            candidate1 = pair[0][0]\n",
    "            candidate2 = pair[1][0]\n",
    "#           converting raw IDs to inner IDs\n",
    "            innerID1 = simsAlgo.trainset.to_inner_iid(str(candidate1))\n",
    "            innerID2 = simsAlgo.trainset.to_inner_iid(str(candidate2))\n",
    "            similarity = simsMatrix[innerID1][innerID2]\n",
    "#             calculating total similarity as a sum of all possible pair similarities\n",
    "            total += similarity\n",
    "            n += 1\n",
    "#  calculating total diversity as 1 - total similarity\n",
    "    S = total / n\n",
    "    return (1 - S)\n",
    "\n",
    "\n",
    "print(\"calculating diversity...\")\n",
    "print(Diversity(top_n,simsAlgo))"
   ]
  },
  {
   "cell_type": "markdown",
   "metadata": {},
   "source": [
    "The coverage looks high,which is good, but I have applied the algorithm only to the 1000 users. For the full set it is expected to be lower. Diversity looks quite high, but it is hard to judge in isolation with other metrics."
   ]
  },
  {
   "cell_type": "markdown",
   "metadata": {},
   "source": [
    "# Conclusion"
   ]
  },
  {
   "cell_type": "markdown",
   "metadata": {},
   "source": [
    "In the final project various methods of building recommender system were tested and assessed. The implementation was started from the simple user- and item- based collaborative filtering methods and then I have dived dipper into KNN methods which allow to predict candidates ratings and build user- and item-based collaborative filtering based on the predicted ratings. Matrix factorization techniques such as SVD method was implemented and tuned in order to get more accurate results.\n",
    "\n",
    "Accuracy is not everything. The recommendations that are most accurate according to the standard metrics are sometimes not the recommendations that are most useful to users. Coverage and Diversity were calculated and implemented as possible types of user satisfaction measures.\n",
    "\n",
    "Although simple user- and item-based collaborative filtering does not allow me to calculate accuracy as it is just top N recommender and it does not predict rating. In this case it is hard to evaluate the user- and item-based collaborative filtering without running the experiments on the real world users.\n",
    "\n",
    "The KNN algorithms are more complex, but unfortunately do not work well in practice as it force collaborative filtering to make predictions on ratings, which are in not continuous by nature."
   ]
  },
  {
   "cell_type": "markdown",
   "metadata": {},
   "source": [
    "Sources:\n",
    "\n",
    "https://surprise.readthedocs.io/en/stable/FAQ.html\n",
    "\n",
    "https://kerpanic.wordpress.com/2018/03/26/a-gentle-guide-to-recommender-systems-with-surprise/\n",
    "\n",
    "https://towardsdatascience.com/building-and-testing-recommender-systems-with-surprise-step-by-step-d4ba702ef80b\n",
    "\n",
    "http://www.occamslab.com/petricek/papers/dating/brozovsky07recommender.pdf\n",
    "\n",
    "https://buildmedia.readthedocs.org/media/pdf/surprise/stable/surprise.pdf"
   ]
  },
  {
   "cell_type": "code",
   "execution_count": null,
   "metadata": {},
   "outputs": [],
   "source": []
  }
 ],
 "metadata": {
  "kernelspec": {
   "display_name": "Python 3",
   "language": "python",
   "name": "python3"
  },
  "language_info": {
   "codemirror_mode": {
    "name": "ipython",
    "version": 3
   },
   "file_extension": ".py",
   "mimetype": "text/x-python",
   "name": "python",
   "nbconvert_exporter": "python",
   "pygments_lexer": "ipython3",
   "version": "3.7.1"
  }
 },
 "nbformat": 4,
 "nbformat_minor": 2
}
